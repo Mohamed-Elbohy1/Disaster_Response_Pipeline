{
 "cells": [
  {
   "cell_type": "markdown",
   "metadata": {},
   "source": [
    "# ML Pipeline Preparation\n",
    "Follow the instructions below to help you create your ML pipeline.\n",
    "### 1. Import libraries and load data from database.\n",
    "- Import Python libraries\n",
    "- Load dataset from database with [`read_sql_table`](https://pandas.pydata.org/pandas-docs/stable/generated/pandas.read_sql_table.html)\n",
    "- Define feature and target variables X and Y"
   ]
  },
  {
   "cell_type": "code",
   "execution_count": 1,
   "metadata": {},
   "outputs": [
    {
     "name": "stdout",
     "output_type": "stream",
     "text": [
      "[nltk_data] Downloading package punkt to /root/nltk_data...\n",
      "[nltk_data]   Unzipping tokenizers/punkt.zip.\n",
      "[nltk_data] Downloading package stopwords to /root/nltk_data...\n",
      "[nltk_data]   Unzipping corpora/stopwords.zip.\n"
     ]
    }
   ],
   "source": [
    "# import libraries\n",
    "import pandas as pd\n",
    "import numpy as np\n",
    "from sqlalchemy import create_engine\n",
    "import re\n",
    "import pickle\n",
    "import nltk\n",
    "\n",
    "nltk.download('punkt')\n",
    "nltk.download('stopwords')\n",
    "\n",
    "from nltk.corpus import stopwords\n",
    "from nltk.tokenize import word_tokenize\n",
    "from nltk.stem.porter import PorterStemmer\n",
    "from sklearn.metrics import classification_report\n",
    "from sklearn.ensemble import RandomForestClassifier,AdaBoostClassifier\n",
    "from sklearn.tree import DecisionTreeClassifier\n",
    "from sklearn.pipeline import Pipeline\n",
    "from sklearn.feature_extraction.text import CountVectorizer, TfidfTransformer\n",
    "from sklearn.model_selection import train_test_split, GridSearchCV\n",
    "from sklearn.ensemble import RandomForestClassifier\n",
    "from sklearn.multioutput import MultiOutputClassifier\n",
    "from sklearn.metrics import accuracy_score, precision_score, recall_score, f1_score, make_scorer\n",
    "from sklearn.model_selection import GridSearchCV\n",
    "from sklearn.svm import SVC\n",
    "\n",
    "import warnings\n",
    "\n",
    "warnings.simplefilter('ignore')"
   ]
  },
  {
   "cell_type": "code",
   "execution_count": 2,
   "metadata": {},
   "outputs": [],
   "source": [
    "# load data from database\n",
    "\n",
    "engine = create_engine('sqlite:///InsertDatabaseName.db')\n",
    "\n",
    "data = pd.read_sql_table('InsertTableName', con=engine)\n",
    "\n",
    "cat = data.columns[4:]\n",
    "\n",
    "X = data[['message']].values[:, 0]\n",
    "\n",
    "Y = data[cat].values"
   ]
  },
  {
   "cell_type": "markdown",
   "metadata": {},
   "source": [
    "### 2. Write a tokenization function to process your text data"
   ]
  },
  {
   "cell_type": "code",
   "execution_count": 3,
   "metadata": {},
   "outputs": [],
   "source": [
    "def tokenize(text):\n",
    "    \n",
    "    text = re.sub(r\"[^a-zA-Z0-9]\", \" \", text.lower())\n",
    "\n",
    "    tokens = word_tokenize(text)\n",
    "    \n",
    "    stemmer = PorterStemmer()\n",
    "    \n",
    "    stop = stopwords.words(\"english\")\n",
    "    \n",
    "    stem = [stemmer.stem(word) for word in tokens if word not in stop]\n",
    "    \n",
    "    return stem"
   ]
  },
  {
   "cell_type": "markdown",
   "metadata": {},
   "source": [
    "### 3. Build a machine learning pipeline\n",
    "This machine pipeline should take in the `message` column as input and output classification results on the other 36 categories in the dataset. You may find the [MultiOutputClassifier](http://scikit-learn.org/stable/modules/generated/sklearn.multioutput.MultiOutputClassifier.html) helpful for predicting multiple target variables."
   ]
  },
  {
   "cell_type": "code",
   "execution_count": 4,
   "metadata": {},
   "outputs": [],
   "source": [
    "pipeline = Pipeline([\n",
    "                        ('vect', CountVectorizer(tokenizer=tokenize)),\n",
    "                        ('tfidf', TfidfTransformer()),\n",
    "                        ('clf', MultiOutputClassifier(RandomForestClassifier(class_weight='balanced')))\n",
    "                    ])"
   ]
  },
  {
   "cell_type": "markdown",
   "metadata": {},
   "source": [
    "### 4. Train pipeline\n",
    "- Split data into train and test sets\n",
    "- Train pipeline"
   ]
  },
  {
   "cell_type": "code",
   "execution_count": 5,
   "metadata": {
    "scrolled": true
   },
   "outputs": [
    {
     "data": {
      "text/plain": [
       "Pipeline(memory=None,\n",
       "     steps=[('vect', CountVectorizer(analyzer='word', binary=False, decode_error='strict',\n",
       "        dtype=<class 'numpy.int64'>, encoding='utf-8', input='content',\n",
       "        lowercase=True, max_df=1.0, max_features=None, min_df=1,\n",
       "        ngram_range=(1, 1), preprocessor=None, stop_words=None,\n",
       "        strip...oob_score=False, random_state=None,\n",
       "            verbose=0, warm_start=False),\n",
       "           n_jobs=1))])"
      ]
     },
     "execution_count": 5,
     "metadata": {},
     "output_type": "execute_result"
    }
   ],
   "source": [
    "X_train,X_test,y_train,y_test=train_test_split(X,Y,test_size=0.3, random_state=30)\n",
    "\n",
    "pipeline.fit(X_train,y_train)"
   ]
  },
  {
   "cell_type": "markdown",
   "metadata": {},
   "source": [
    "### 5. Test your model\n",
    "Report the f1 score, precision and recall for each output category of the dataset. You can do this by iterating through the columns and calling sklearn's `classification_report` on each."
   ]
  },
  {
   "cell_type": "code",
   "execution_count": 6,
   "metadata": {},
   "outputs": [],
   "source": [
    "def multiout_class_report(y_true, y_pred):\n",
    "    \n",
    "    for i in range(0, len(cat)):\n",
    "        \n",
    "        print(cat[i])\n",
    "        \n",
    "        print(\"Accuracy: {:.3f}\\t Precision: {:.3f}\\t Recall: {:.3f}\\t F1_score: {:.3f}\\n \".format(\n",
    "            \n",
    "            accuracy_score(y_true[:, i], y_pred[:, i]),\n",
    "            \n",
    "            precision_score(y_true[:, i], y_pred[:, i], average='weighted'),\n",
    "            \n",
    "            recall_score(y_true[:, i], y_pred[:, i], average='weighted'),\n",
    "            \n",
    "            f1_score(y_true[:, i], y_pred[:, i], average='weighted')\n",
    "        ))"
   ]
  },
  {
   "cell_type": "code",
   "execution_count": 7,
   "metadata": {
    "scrolled": true
   },
   "outputs": [
    {
     "name": "stdout",
     "output_type": "stream",
     "text": [
      "related\n",
      "Accuracy: 0.989\t Precision: 0.989\t Recall: 0.989\t F1_score: 0.989\n",
      " \n",
      "request\n",
      "Accuracy: 0.988\t Precision: 0.988\t Recall: 0.988\t F1_score: 0.987\n",
      " \n",
      "offer\n",
      "Accuracy: 0.998\t Precision: 0.998\t Recall: 0.998\t F1_score: 0.998\n",
      " \n",
      "aid_related\n",
      "Accuracy: 0.985\t Precision: 0.985\t Recall: 0.985\t F1_score: 0.985\n",
      " \n",
      "medical_help\n",
      "Accuracy: 0.988\t Precision: 0.988\t Recall: 0.988\t F1_score: 0.987\n",
      " \n",
      "medical_products\n",
      "Accuracy: 0.992\t Precision: 0.992\t Recall: 0.992\t F1_score: 0.992\n",
      " \n",
      "search_and_rescue\n",
      "Accuracy: 0.993\t Precision: 0.993\t Recall: 0.993\t F1_score: 0.993\n",
      " \n",
      "security\n",
      "Accuracy: 0.995\t Precision: 0.995\t Recall: 0.995\t F1_score: 0.995\n",
      " \n",
      "military\n",
      "Accuracy: 0.996\t Precision: 0.996\t Recall: 0.996\t F1_score: 0.996\n",
      " \n",
      "child_alone\n",
      "Accuracy: 1.000\t Precision: 1.000\t Recall: 1.000\t F1_score: 1.000\n",
      " \n",
      "water\n",
      "Accuracy: 0.995\t Precision: 0.995\t Recall: 0.995\t F1_score: 0.995\n",
      " \n",
      "food\n",
      "Accuracy: 0.994\t Precision: 0.994\t Recall: 0.994\t F1_score: 0.994\n",
      " \n",
      "shelter\n",
      "Accuracy: 0.993\t Precision: 0.993\t Recall: 0.993\t F1_score: 0.993\n",
      " \n",
      "clothing\n",
      "Accuracy: 0.998\t Precision: 0.998\t Recall: 0.998\t F1_score: 0.998\n",
      " \n",
      "money\n",
      "Accuracy: 0.995\t Precision: 0.995\t Recall: 0.995\t F1_score: 0.995\n",
      " \n",
      "missing_people\n",
      "Accuracy: 0.997\t Precision: 0.997\t Recall: 0.997\t F1_score: 0.997\n",
      " \n",
      "refugees\n",
      "Accuracy: 0.995\t Precision: 0.995\t Recall: 0.995\t F1_score: 0.995\n",
      " \n",
      "death\n",
      "Accuracy: 0.994\t Precision: 0.994\t Recall: 0.994\t F1_score: 0.993\n",
      " \n",
      "other_aid\n",
      "Accuracy: 0.980\t Precision: 0.981\t Recall: 0.980\t F1_score: 0.980\n",
      " \n",
      "infrastructure_related\n",
      "Accuracy: 0.987\t Precision: 0.988\t Recall: 0.987\t F1_score: 0.987\n",
      " \n",
      "transport\n",
      "Accuracy: 0.992\t Precision: 0.992\t Recall: 0.992\t F1_score: 0.991\n",
      " \n",
      "buildings\n",
      "Accuracy: 0.994\t Precision: 0.994\t Recall: 0.994\t F1_score: 0.994\n",
      " \n",
      "electricity\n",
      "Accuracy: 0.997\t Precision: 0.997\t Recall: 0.997\t F1_score: 0.997\n",
      " \n",
      "tools\n",
      "Accuracy: 0.998\t Precision: 0.998\t Recall: 0.998\t F1_score: 0.998\n",
      " \n",
      "hospitals\n",
      "Accuracy: 0.997\t Precision: 0.997\t Recall: 0.997\t F1_score: 0.997\n",
      " \n",
      "shops\n",
      "Accuracy: 0.999\t Precision: 0.999\t Recall: 0.999\t F1_score: 0.999\n",
      " \n",
      "aid_centers\n",
      "Accuracy: 0.996\t Precision: 0.996\t Recall: 0.996\t F1_score: 0.996\n",
      " \n",
      "other_infrastructure\n",
      "Accuracy: 0.990\t Precision: 0.990\t Recall: 0.990\t F1_score: 0.989\n",
      " \n",
      "weather_related\n",
      "Accuracy: 0.988\t Precision: 0.988\t Recall: 0.988\t F1_score: 0.988\n",
      " \n",
      "floods\n",
      "Accuracy: 0.992\t Precision: 0.992\t Recall: 0.992\t F1_score: 0.992\n",
      " \n",
      "storm\n",
      "Accuracy: 0.993\t Precision: 0.993\t Recall: 0.993\t F1_score: 0.993\n",
      " \n",
      "fire\n",
      "Accuracy: 0.998\t Precision: 0.998\t Recall: 0.998\t F1_score: 0.998\n",
      " \n",
      "earthquake\n",
      "Accuracy: 0.995\t Precision: 0.995\t Recall: 0.995\t F1_score: 0.995\n",
      " \n",
      "cold\n",
      "Accuracy: 0.997\t Precision: 0.996\t Recall: 0.997\t F1_score: 0.996\n",
      " \n",
      "other_weather\n",
      "Accuracy: 0.989\t Precision: 0.989\t Recall: 0.989\t F1_score: 0.988\n",
      " \n",
      "direct_report\n",
      "Accuracy: 0.984\t Precision: 0.984\t Recall: 0.984\t F1_score: 0.984\n",
      " \n"
     ]
    }
   ],
   "source": [
    "y_pred = pipeline.predict(X_train)\n",
    "\n",
    "multiout_class_report(y_train, y_pred)"
   ]
  },
  {
   "cell_type": "markdown",
   "metadata": {},
   "source": [
    "### 6. Improve your model\n",
    "Use grid search to find better parameters. "
   ]
  },
  {
   "cell_type": "code",
   "execution_count": 8,
   "metadata": {},
   "outputs": [],
   "source": [
    "parameters = { \"clf__estimator__n_estimators\": [25, 50, 100],\"clf__estimator__min_samples_split\": [2, 3]}\n",
    "\n",
    "cv = GridSearchCV(pipeline, param_grid=parameters)"
   ]
  },
  {
   "cell_type": "code",
   "execution_count": 9,
   "metadata": {
    "scrolled": true
   },
   "outputs": [
    {
     "data": {
      "text/plain": [
       "GridSearchCV(cv=None, error_score='raise',\n",
       "       estimator=Pipeline(memory=None,\n",
       "     steps=[('vect', CountVectorizer(analyzer='word', binary=False, decode_error='strict',\n",
       "        dtype=<class 'numpy.int64'>, encoding='utf-8', input='content',\n",
       "        lowercase=True, max_df=1.0, max_features=None, min_df=1,\n",
       "        ngram_range=(1, 1), preprocessor=None, stop_words=None,\n",
       "        strip...oob_score=False, random_state=None,\n",
       "            verbose=0, warm_start=False),\n",
       "           n_jobs=1))]),\n",
       "       fit_params=None, iid=True, n_jobs=1,\n",
       "       param_grid={'clf__estimator__n_estimators': [25, 50, 100], 'clf__estimator__min_samples_split': [2, 3]},\n",
       "       pre_dispatch='2*n_jobs', refit=True, return_train_score='warn',\n",
       "       scoring=None, verbose=0)"
      ]
     },
     "execution_count": 9,
     "metadata": {},
     "output_type": "execute_result"
    }
   ],
   "source": [
    "cv.fit(X_train, y_train)"
   ]
  },
  {
   "cell_type": "markdown",
   "metadata": {},
   "source": [
    "### 7. Test your model\n",
    "Show the accuracy, precision, and recall of the tuned model.  \n",
    "\n",
    "Since this project focuses on code quality, process, and  pipelines, there is no minimum performance metric needed to pass. However, make sure to fine tune your models for accuracy, precision and recall to make your project stand out - especially for your portfolio!"
   ]
  },
  {
   "cell_type": "code",
   "execution_count": 10,
   "metadata": {
    "scrolled": false
   },
   "outputs": [
    {
     "name": "stdout",
     "output_type": "stream",
     "text": [
      "related\n",
      "Accuracy: 0.997\t Precision: 0.997\t Recall: 0.997\t F1_score: 0.997\n",
      " \n",
      "request\n",
      "Accuracy: 0.999\t Precision: 0.999\t Recall: 0.999\t F1_score: 0.999\n",
      " \n",
      "offer\n",
      "Accuracy: 1.000\t Precision: 1.000\t Recall: 1.000\t F1_score: 1.000\n",
      " \n",
      "aid_related\n",
      "Accuracy: 0.998\t Precision: 0.998\t Recall: 0.998\t F1_score: 0.998\n",
      " \n",
      "medical_help\n",
      "Accuracy: 0.999\t Precision: 0.999\t Recall: 0.999\t F1_score: 0.999\n",
      " \n",
      "medical_products\n",
      "Accuracy: 1.000\t Precision: 1.000\t Recall: 1.000\t F1_score: 1.000\n",
      " \n",
      "search_and_rescue\n",
      "Accuracy: 1.000\t Precision: 1.000\t Recall: 1.000\t F1_score: 1.000\n",
      " \n",
      "security\n",
      "Accuracy: 1.000\t Precision: 1.000\t Recall: 1.000\t F1_score: 1.000\n",
      " \n",
      "military\n",
      "Accuracy: 1.000\t Precision: 1.000\t Recall: 1.000\t F1_score: 1.000\n",
      " \n",
      "child_alone\n",
      "Accuracy: 1.000\t Precision: 1.000\t Recall: 1.000\t F1_score: 1.000\n",
      " \n",
      "water\n",
      "Accuracy: 1.000\t Precision: 1.000\t Recall: 1.000\t F1_score: 1.000\n",
      " \n",
      "food\n",
      "Accuracy: 1.000\t Precision: 1.000\t Recall: 1.000\t F1_score: 1.000\n",
      " \n",
      "shelter\n",
      "Accuracy: 1.000\t Precision: 1.000\t Recall: 1.000\t F1_score: 1.000\n",
      " \n",
      "clothing\n",
      "Accuracy: 1.000\t Precision: 1.000\t Recall: 1.000\t F1_score: 1.000\n",
      " \n",
      "money\n",
      "Accuracy: 1.000\t Precision: 1.000\t Recall: 1.000\t F1_score: 1.000\n",
      " \n",
      "missing_people\n",
      "Accuracy: 1.000\t Precision: 1.000\t Recall: 1.000\t F1_score: 1.000\n",
      " \n",
      "refugees\n",
      "Accuracy: 1.000\t Precision: 1.000\t Recall: 1.000\t F1_score: 1.000\n",
      " \n",
      "death\n",
      "Accuracy: 1.000\t Precision: 1.000\t Recall: 1.000\t F1_score: 1.000\n",
      " \n",
      "other_aid\n",
      "Accuracy: 0.999\t Precision: 0.999\t Recall: 0.999\t F1_score: 0.999\n",
      " \n",
      "infrastructure_related\n",
      "Accuracy: 1.000\t Precision: 1.000\t Recall: 1.000\t F1_score: 1.000\n",
      " \n",
      "transport\n",
      "Accuracy: 1.000\t Precision: 1.000\t Recall: 1.000\t F1_score: 1.000\n",
      " \n",
      "buildings\n",
      "Accuracy: 1.000\t Precision: 1.000\t Recall: 1.000\t F1_score: 1.000\n",
      " \n",
      "electricity\n",
      "Accuracy: 1.000\t Precision: 1.000\t Recall: 1.000\t F1_score: 1.000\n",
      " \n",
      "tools\n",
      "Accuracy: 1.000\t Precision: 1.000\t Recall: 1.000\t F1_score: 1.000\n",
      " \n",
      "hospitals\n",
      "Accuracy: 1.000\t Precision: 1.000\t Recall: 1.000\t F1_score: 1.000\n",
      " \n",
      "shops\n",
      "Accuracy: 1.000\t Precision: 1.000\t Recall: 1.000\t F1_score: 1.000\n",
      " \n",
      "aid_centers\n",
      "Accuracy: 1.000\t Precision: 1.000\t Recall: 1.000\t F1_score: 1.000\n",
      " \n",
      "other_infrastructure\n",
      "Accuracy: 1.000\t Precision: 1.000\t Recall: 1.000\t F1_score: 1.000\n",
      " \n",
      "weather_related\n",
      "Accuracy: 0.999\t Precision: 0.999\t Recall: 0.999\t F1_score: 0.999\n",
      " \n",
      "floods\n",
      "Accuracy: 1.000\t Precision: 1.000\t Recall: 1.000\t F1_score: 1.000\n",
      " \n",
      "storm\n",
      "Accuracy: 1.000\t Precision: 1.000\t Recall: 1.000\t F1_score: 1.000\n",
      " \n",
      "fire\n",
      "Accuracy: 1.000\t Precision: 1.000\t Recall: 1.000\t F1_score: 1.000\n",
      " \n",
      "earthquake\n",
      "Accuracy: 0.999\t Precision: 0.999\t Recall: 0.999\t F1_score: 0.999\n",
      " \n",
      "cold\n",
      "Accuracy: 1.000\t Precision: 1.000\t Recall: 1.000\t F1_score: 1.000\n",
      " \n",
      "other_weather\n",
      "Accuracy: 1.000\t Precision: 1.000\t Recall: 1.000\t F1_score: 1.000\n",
      " \n",
      "direct_report\n",
      "Accuracy: 0.999\t Precision: 0.999\t Recall: 0.999\t F1_score: 0.999\n",
      " \n"
     ]
    }
   ],
   "source": [
    "y_pred = cv.predict(X_train)\n",
    "multiout_class_report(y_train, y_pred)"
   ]
  },
  {
   "cell_type": "code",
   "execution_count": 11,
   "metadata": {
    "scrolled": false
   },
   "outputs": [
    {
     "name": "stdout",
     "output_type": "stream",
     "text": [
      "related\n",
      "Accuracy: 0.823\t Precision: 0.813\t Recall: 0.823\t F1_score: 0.813\n",
      " \n",
      "request\n",
      "Accuracy: 0.903\t Precision: 0.898\t Recall: 0.903\t F1_score: 0.898\n",
      " \n",
      "offer\n",
      "Accuracy: 0.996\t Precision: 0.993\t Recall: 0.996\t F1_score: 0.995\n",
      " \n",
      "aid_related\n",
      "Accuracy: 0.782\t Precision: 0.782\t Recall: 0.782\t F1_score: 0.782\n",
      " \n",
      "medical_help\n",
      "Accuracy: 0.922\t Precision: 0.902\t Recall: 0.922\t F1_score: 0.900\n",
      " \n",
      "medical_products\n",
      "Accuracy: 0.951\t Precision: 0.940\t Recall: 0.951\t F1_score: 0.933\n",
      " \n",
      "search_and_rescue\n",
      "Accuracy: 0.975\t Precision: 0.976\t Recall: 0.975\t F1_score: 0.964\n",
      " \n",
      "security\n",
      "Accuracy: 0.982\t Precision: 0.973\t Recall: 0.982\t F1_score: 0.973\n",
      " \n",
      "military\n",
      "Accuracy: 0.969\t Precision: 0.961\t Recall: 0.969\t F1_score: 0.960\n",
      " \n",
      "child_alone\n",
      "Accuracy: 1.000\t Precision: 1.000\t Recall: 1.000\t F1_score: 1.000\n",
      " \n",
      "water\n",
      "Accuracy: 0.956\t Precision: 0.953\t Recall: 0.956\t F1_score: 0.947\n",
      " \n",
      "food\n",
      "Accuracy: 0.943\t Precision: 0.939\t Recall: 0.943\t F1_score: 0.939\n",
      " \n",
      "shelter\n",
      "Accuracy: 0.940\t Precision: 0.934\t Recall: 0.940\t F1_score: 0.931\n",
      " \n",
      "clothing\n",
      "Accuracy: 0.989\t Precision: 0.987\t Recall: 0.989\t F1_score: 0.985\n",
      " \n",
      "money\n",
      "Accuracy: 0.979\t Precision: 0.976\t Recall: 0.979\t F1_score: 0.970\n",
      " \n",
      "missing_people\n",
      "Accuracy: 0.989\t Precision: 0.986\t Recall: 0.989\t F1_score: 0.984\n",
      " \n",
      "refugees\n",
      "Accuracy: 0.967\t Precision: 0.959\t Recall: 0.967\t F1_score: 0.952\n",
      " \n",
      "death\n",
      "Accuracy: 0.962\t Precision: 0.958\t Recall: 0.962\t F1_score: 0.950\n",
      " \n",
      "other_aid\n",
      "Accuracy: 0.879\t Precision: 0.855\t Recall: 0.879\t F1_score: 0.839\n",
      " \n",
      "infrastructure_related\n",
      "Accuracy: 0.933\t Precision: 0.911\t Recall: 0.933\t F1_score: 0.901\n",
      " \n",
      "transport\n",
      "Accuracy: 0.956\t Precision: 0.947\t Recall: 0.956\t F1_score: 0.938\n",
      " \n",
      "buildings\n",
      "Accuracy: 0.955\t Precision: 0.950\t Recall: 0.955\t F1_score: 0.940\n",
      " \n",
      "electricity\n",
      "Accuracy: 0.978\t Precision: 0.975\t Recall: 0.978\t F1_score: 0.968\n",
      " \n",
      "tools\n",
      "Accuracy: 0.993\t Precision: 0.986\t Recall: 0.993\t F1_score: 0.990\n",
      " \n",
      "hospitals\n",
      "Accuracy: 0.989\t Precision: 0.978\t Recall: 0.989\t F1_score: 0.984\n",
      " \n",
      "shops\n",
      "Accuracy: 0.993\t Precision: 0.987\t Recall: 0.993\t F1_score: 0.990\n",
      " \n",
      "aid_centers\n",
      "Accuracy: 0.989\t Precision: 0.979\t Recall: 0.989\t F1_score: 0.984\n",
      " \n",
      "other_infrastructure\n",
      "Accuracy: 0.955\t Precision: 0.934\t Recall: 0.955\t F1_score: 0.933\n",
      " \n",
      "weather_related\n",
      "Accuracy: 0.890\t Precision: 0.888\t Recall: 0.890\t F1_score: 0.889\n",
      " \n",
      "floods\n",
      "Accuracy: 0.950\t Precision: 0.948\t Recall: 0.950\t F1_score: 0.942\n",
      " \n",
      "storm\n",
      "Accuracy: 0.940\t Precision: 0.935\t Recall: 0.940\t F1_score: 0.936\n",
      " \n",
      "fire\n",
      "Accuracy: 0.990\t Precision: 0.990\t Recall: 0.990\t F1_score: 0.985\n",
      " \n",
      "earthquake\n",
      "Accuracy: 0.966\t Precision: 0.965\t Recall: 0.966\t F1_score: 0.965\n",
      " \n",
      "cold\n",
      "Accuracy: 0.982\t Precision: 0.978\t Recall: 0.982\t F1_score: 0.974\n",
      " \n",
      "other_weather\n",
      "Accuracy: 0.952\t Precision: 0.939\t Recall: 0.952\t F1_score: 0.930\n",
      " \n",
      "direct_report\n",
      "Accuracy: 0.862\t Precision: 0.852\t Recall: 0.862\t F1_score: 0.850\n",
      " \n"
     ]
    }
   ],
   "source": [
    "y_pred = cv.predict(X_test)\n",
    "multiout_class_report(y_test, y_pred)"
   ]
  },
  {
   "cell_type": "markdown",
   "metadata": {},
   "source": [
    "### 8. Try improving your model further. Here are a few ideas:\n",
    "* try other machine learning algorithms\n",
    "* add other features besides the TF-IDF"
   ]
  },
  {
   "cell_type": "code",
   "execution_count": 15,
   "metadata": {},
   "outputs": [],
   "source": [
    "pipeline_ada = Pipeline([\n",
    "                            ('vect', CountVectorizer(tokenizer=tokenize)),\n",
    "                            ('tfidf', TfidfTransformer()),\n",
    "                            ('clf', MultiOutputClassifier(\n",
    "                            AdaBoostClassifier(base_estimator=DecisionTreeClassifier(max_depth=1, class_weight='balanced'))))\n",
    "                        ])\n",
    "\n",
    "parameters_ada = { \"clf__estimator__n_estimators\": [25, 50, 100],\"clf__estimator__min_samples_split\": [2, 3]}\n",
    "\n",
    "cv_ada = GridSearchCV(pipeline, param_grid=parameters_ada)"
   ]
  },
  {
   "cell_type": "code",
   "execution_count": 16,
   "metadata": {
    "scrolled": true
   },
   "outputs": [
    {
     "data": {
      "text/plain": [
       "GridSearchCV(cv=None, error_score='raise',\n",
       "       estimator=Pipeline(memory=None,\n",
       "     steps=[('vect', CountVectorizer(analyzer='word', binary=False, decode_error='strict',\n",
       "        dtype=<class 'numpy.int64'>, encoding='utf-8', input='content',\n",
       "        lowercase=True, max_df=1.0, max_features=None, min_df=1,\n",
       "        ngram_range=(1, 1), preprocessor=None, stop_words=None,\n",
       "        strip...oob_score=False, random_state=None,\n",
       "            verbose=0, warm_start=False),\n",
       "           n_jobs=1))]),\n",
       "       fit_params=None, iid=True, n_jobs=1,\n",
       "       param_grid={'clf__estimator__n_estimators': [25, 50, 100], 'clf__estimator__min_samples_split': [2, 3]},\n",
       "       pre_dispatch='2*n_jobs', refit=True, return_train_score='warn',\n",
       "       scoring=None, verbose=0)"
      ]
     },
     "execution_count": 16,
     "metadata": {},
     "output_type": "execute_result"
    }
   ],
   "source": [
    "np.random.seed(34)\n",
    "cv_ada.fit(X_train, y_train)"
   ]
  },
  {
   "cell_type": "code",
   "execution_count": 17,
   "metadata": {},
   "outputs": [
    {
     "data": {
      "text/plain": [
       "{'clf__estimator__min_samples_split': 3, 'clf__estimator__n_estimators': 100}"
      ]
     },
     "execution_count": 17,
     "metadata": {},
     "output_type": "execute_result"
    }
   ],
   "source": [
    "cv_ada.best_params_"
   ]
  },
  {
   "cell_type": "code",
   "execution_count": 18,
   "metadata": {
    "scrolled": false
   },
   "outputs": [
    {
     "name": "stdout",
     "output_type": "stream",
     "text": [
      "related\n",
      "Accuracy: 0.997\t Precision: 0.997\t Recall: 0.997\t F1_score: 0.997\n",
      " \n",
      "request\n",
      "Accuracy: 0.999\t Precision: 0.999\t Recall: 0.999\t F1_score: 0.999\n",
      " \n",
      "offer\n",
      "Accuracy: 1.000\t Precision: 1.000\t Recall: 1.000\t F1_score: 1.000\n",
      " \n",
      "aid_related\n",
      "Accuracy: 0.998\t Precision: 0.998\t Recall: 0.998\t F1_score: 0.998\n",
      " \n",
      "medical_help\n",
      "Accuracy: 0.999\t Precision: 0.999\t Recall: 0.999\t F1_score: 0.999\n",
      " \n",
      "medical_products\n",
      "Accuracy: 1.000\t Precision: 1.000\t Recall: 1.000\t F1_score: 1.000\n",
      " \n",
      "search_and_rescue\n",
      "Accuracy: 1.000\t Precision: 1.000\t Recall: 1.000\t F1_score: 1.000\n",
      " \n",
      "security\n",
      "Accuracy: 1.000\t Precision: 1.000\t Recall: 1.000\t F1_score: 1.000\n",
      " \n",
      "military\n",
      "Accuracy: 1.000\t Precision: 1.000\t Recall: 1.000\t F1_score: 1.000\n",
      " \n",
      "child_alone\n",
      "Accuracy: 1.000\t Precision: 1.000\t Recall: 1.000\t F1_score: 1.000\n",
      " \n",
      "water\n",
      "Accuracy: 1.000\t Precision: 1.000\t Recall: 1.000\t F1_score: 1.000\n",
      " \n",
      "food\n",
      "Accuracy: 1.000\t Precision: 1.000\t Recall: 1.000\t F1_score: 1.000\n",
      " \n",
      "shelter\n",
      "Accuracy: 1.000\t Precision: 1.000\t Recall: 1.000\t F1_score: 1.000\n",
      " \n",
      "clothing\n",
      "Accuracy: 1.000\t Precision: 1.000\t Recall: 1.000\t F1_score: 1.000\n",
      " \n",
      "money\n",
      "Accuracy: 1.000\t Precision: 1.000\t Recall: 1.000\t F1_score: 1.000\n",
      " \n",
      "missing_people\n",
      "Accuracy: 1.000\t Precision: 1.000\t Recall: 1.000\t F1_score: 1.000\n",
      " \n",
      "refugees\n",
      "Accuracy: 1.000\t Precision: 1.000\t Recall: 1.000\t F1_score: 1.000\n",
      " \n",
      "death\n",
      "Accuracy: 1.000\t Precision: 1.000\t Recall: 1.000\t F1_score: 1.000\n",
      " \n",
      "other_aid\n",
      "Accuracy: 0.999\t Precision: 0.999\t Recall: 0.999\t F1_score: 0.999\n",
      " \n",
      "infrastructure_related\n",
      "Accuracy: 1.000\t Precision: 1.000\t Recall: 1.000\t F1_score: 1.000\n",
      " \n",
      "transport\n",
      "Accuracy: 1.000\t Precision: 1.000\t Recall: 1.000\t F1_score: 1.000\n",
      " \n",
      "buildings\n",
      "Accuracy: 1.000\t Precision: 1.000\t Recall: 1.000\t F1_score: 1.000\n",
      " \n",
      "electricity\n",
      "Accuracy: 1.000\t Precision: 1.000\t Recall: 1.000\t F1_score: 1.000\n",
      " \n",
      "tools\n",
      "Accuracy: 1.000\t Precision: 1.000\t Recall: 1.000\t F1_score: 1.000\n",
      " \n",
      "hospitals\n",
      "Accuracy: 1.000\t Precision: 1.000\t Recall: 1.000\t F1_score: 1.000\n",
      " \n",
      "shops\n",
      "Accuracy: 1.000\t Precision: 1.000\t Recall: 1.000\t F1_score: 1.000\n",
      " \n",
      "aid_centers\n",
      "Accuracy: 1.000\t Precision: 1.000\t Recall: 1.000\t F1_score: 1.000\n",
      " \n",
      "other_infrastructure\n",
      "Accuracy: 1.000\t Precision: 1.000\t Recall: 1.000\t F1_score: 1.000\n",
      " \n",
      "weather_related\n",
      "Accuracy: 0.999\t Precision: 0.999\t Recall: 0.999\t F1_score: 0.999\n",
      " \n",
      "floods\n",
      "Accuracy: 1.000\t Precision: 1.000\t Recall: 1.000\t F1_score: 1.000\n",
      " \n",
      "storm\n",
      "Accuracy: 1.000\t Precision: 1.000\t Recall: 1.000\t F1_score: 1.000\n",
      " \n",
      "fire\n",
      "Accuracy: 1.000\t Precision: 1.000\t Recall: 1.000\t F1_score: 1.000\n",
      " \n",
      "earthquake\n",
      "Accuracy: 0.999\t Precision: 0.999\t Recall: 0.999\t F1_score: 0.999\n",
      " \n",
      "cold\n",
      "Accuracy: 1.000\t Precision: 1.000\t Recall: 1.000\t F1_score: 1.000\n",
      " \n",
      "other_weather\n",
      "Accuracy: 1.000\t Precision: 1.000\t Recall: 1.000\t F1_score: 1.000\n",
      " \n",
      "direct_report\n",
      "Accuracy: 0.999\t Precision: 0.999\t Recall: 0.999\t F1_score: 0.999\n",
      " \n"
     ]
    }
   ],
   "source": [
    "y_pred = cv_ada.predict(X_train)\n",
    "multiout_class_report(y_train, y_pred)"
   ]
  },
  {
   "cell_type": "code",
   "execution_count": 19,
   "metadata": {
    "scrolled": false
   },
   "outputs": [
    {
     "name": "stdout",
     "output_type": "stream",
     "text": [
      "related\n",
      "Accuracy: 0.822\t Precision: 0.812\t Recall: 0.822\t F1_score: 0.813\n",
      " \n",
      "request\n",
      "Accuracy: 0.904\t Precision: 0.899\t Recall: 0.904\t F1_score: 0.898\n",
      " \n",
      "offer\n",
      "Accuracy: 0.996\t Precision: 0.993\t Recall: 0.996\t F1_score: 0.995\n",
      " \n",
      "aid_related\n",
      "Accuracy: 0.783\t Precision: 0.784\t Recall: 0.783\t F1_score: 0.784\n",
      " \n",
      "medical_help\n",
      "Accuracy: 0.922\t Precision: 0.901\t Recall: 0.922\t F1_score: 0.899\n",
      " \n",
      "medical_products\n",
      "Accuracy: 0.950\t Precision: 0.936\t Recall: 0.950\t F1_score: 0.931\n",
      " \n",
      "search_and_rescue\n",
      "Accuracy: 0.976\t Precision: 0.976\t Recall: 0.976\t F1_score: 0.964\n",
      " \n",
      "security\n",
      "Accuracy: 0.982\t Precision: 0.973\t Recall: 0.982\t F1_score: 0.973\n",
      " \n",
      "military\n",
      "Accuracy: 0.970\t Precision: 0.962\t Recall: 0.970\t F1_score: 0.960\n",
      " \n",
      "child_alone\n",
      "Accuracy: 1.000\t Precision: 1.000\t Recall: 1.000\t F1_score: 1.000\n",
      " \n",
      "water\n",
      "Accuracy: 0.959\t Precision: 0.956\t Recall: 0.959\t F1_score: 0.953\n",
      " \n",
      "food\n",
      "Accuracy: 0.946\t Precision: 0.943\t Recall: 0.946\t F1_score: 0.943\n",
      " \n",
      "shelter\n",
      "Accuracy: 0.940\t Precision: 0.934\t Recall: 0.940\t F1_score: 0.931\n",
      " \n",
      "clothing\n",
      "Accuracy: 0.988\t Precision: 0.987\t Recall: 0.988\t F1_score: 0.985\n",
      " \n",
      "money\n",
      "Accuracy: 0.979\t Precision: 0.974\t Recall: 0.979\t F1_score: 0.970\n",
      " \n",
      "missing_people\n",
      "Accuracy: 0.989\t Precision: 0.984\t Recall: 0.989\t F1_score: 0.984\n",
      " \n",
      "refugees\n",
      "Accuracy: 0.967\t Precision: 0.964\t Recall: 0.967\t F1_score: 0.952\n",
      " \n",
      "death\n",
      "Accuracy: 0.962\t Precision: 0.960\t Recall: 0.962\t F1_score: 0.950\n",
      " \n",
      "other_aid\n",
      "Accuracy: 0.879\t Precision: 0.854\t Recall: 0.879\t F1_score: 0.838\n",
      " \n",
      "infrastructure_related\n",
      "Accuracy: 0.933\t Precision: 0.893\t Recall: 0.933\t F1_score: 0.901\n",
      " \n",
      "transport\n",
      "Accuracy: 0.956\t Precision: 0.947\t Recall: 0.956\t F1_score: 0.938\n",
      " \n",
      "buildings\n",
      "Accuracy: 0.954\t Precision: 0.947\t Recall: 0.954\t F1_score: 0.939\n",
      " \n",
      "electricity\n",
      "Accuracy: 0.978\t Precision: 0.969\t Recall: 0.978\t F1_score: 0.968\n",
      " \n",
      "tools\n",
      "Accuracy: 0.993\t Precision: 0.986\t Recall: 0.993\t F1_score: 0.990\n",
      " \n",
      "hospitals\n",
      "Accuracy: 0.989\t Precision: 0.978\t Recall: 0.989\t F1_score: 0.984\n",
      " \n",
      "shops\n",
      "Accuracy: 0.993\t Precision: 0.987\t Recall: 0.993\t F1_score: 0.990\n",
      " \n",
      "aid_centers\n",
      "Accuracy: 0.989\t Precision: 0.979\t Recall: 0.989\t F1_score: 0.984\n",
      " \n",
      "other_infrastructure\n",
      "Accuracy: 0.955\t Precision: 0.927\t Recall: 0.955\t F1_score: 0.933\n",
      " \n",
      "weather_related\n",
      "Accuracy: 0.888\t Precision: 0.886\t Recall: 0.888\t F1_score: 0.887\n",
      " \n",
      "floods\n",
      "Accuracy: 0.951\t Precision: 0.950\t Recall: 0.951\t F1_score: 0.943\n",
      " \n",
      "storm\n",
      "Accuracy: 0.940\t Precision: 0.934\t Recall: 0.940\t F1_score: 0.935\n",
      " \n",
      "fire\n",
      "Accuracy: 0.990\t Precision: 0.990\t Recall: 0.990\t F1_score: 0.986\n",
      " \n",
      "earthquake\n",
      "Accuracy: 0.969\t Precision: 0.968\t Recall: 0.969\t F1_score: 0.968\n",
      " \n",
      "cold\n",
      "Accuracy: 0.982\t Precision: 0.976\t Recall: 0.982\t F1_score: 0.974\n",
      " \n",
      "other_weather\n",
      "Accuracy: 0.953\t Precision: 0.942\t Recall: 0.953\t F1_score: 0.933\n",
      " \n",
      "direct_report\n",
      "Accuracy: 0.864\t Precision: 0.854\t Recall: 0.864\t F1_score: 0.851\n",
      " \n"
     ]
    }
   ],
   "source": [
    "y_pred = cv_ada.predict(X_test)\n",
    "multiout_class_report(y_test, y_pred)"
   ]
  },
  {
   "cell_type": "markdown",
   "metadata": {},
   "source": [
    "### 9. Export your model as a pickle file"
   ]
  },
  {
   "cell_type": "code",
   "execution_count": 21,
   "metadata": {},
   "outputs": [],
   "source": [
    "pickle.dump(cv, open('classifier.pkl', 'wb'))"
   ]
  },
  {
   "cell_type": "markdown",
   "metadata": {},
   "source": [
    "### 10. Use this notebook to complete `train.py`\n",
    "Use the template file attached in the Resources folder to write a script that runs the steps above to create a database and export a model based on a new dataset specified by the user."
   ]
  },
  {
   "cell_type": "code",
   "execution_count": null,
   "metadata": {},
   "outputs": [],
   "source": []
  }
 ],
 "metadata": {
  "kernelspec": {
   "display_name": "Python 3",
   "language": "python",
   "name": "python3"
  },
  "language_info": {
   "codemirror_mode": {
    "name": "ipython",
    "version": 3
   },
   "file_extension": ".py",
   "mimetype": "text/x-python",
   "name": "python",
   "nbconvert_exporter": "python",
   "pygments_lexer": "ipython3",
   "version": "3.6.3"
  }
 },
 "nbformat": 4,
 "nbformat_minor": 2
}
